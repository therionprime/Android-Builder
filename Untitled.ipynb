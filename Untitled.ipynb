{
  "nbformat": 4,
  "nbformat_minor": 0,
  "metadata": {
    "colab": {
      "provenance": [],
      "gpuType": "T4",
      "mount_file_id": "1xdxrPpw9A7o4sJPqDFIkdf0sAmol8cpk",
      "authorship_tag": "ABX9TyPi/k35S7fQJQ1QMS5NMms4",
      "include_colab_link": true
    },
    "kernelspec": {
      "name": "python3",
      "display_name": "Python 3"
    },
    "language_info": {
      "name": "python"
    },
    "accelerator": "GPU"
  },
  "cells": [
    {
      "cell_type": "markdown",
      "metadata": {
        "id": "view-in-github",
        "colab_type": "text"
      },
      "source": [
        "<a href=\"https://colab.research.google.com/github/therionprime/Android-Builder/blob/main/Untitled.ipynb\" target=\"_parent\"><img src=\"https://colab.research.google.com/assets/colab-badge.svg\" alt=\"Open In Colab\"/></a>"
      ]
    },
    {
      "cell_type": "code",
      "source": [
        "# prompt: use Miniconda 3 with Unstable Diffusion\n",
        "\n",
        "!wget https://repo.anaconda.com/miniconda/Miniconda3-latest-Linux-x86_64.sh\n",
        "!chmod +x Miniconda3-latest-Linux-x86_64.sh\n",
        "!bash ./Miniconda3-latest-Linux-x86_64.sh -b -f -p /usr/local\n",
        "\n",
        "import sys\n",
        "sys.path.append('/usr/local/lib/python3.9/site-packages')\n",
        "\n",
        "!conda create -n stable_diffusion python=3.9 -y\n",
        "!conda activate stable_diffusion\n",
        "\n",
        "!pip install torch torchvision torchaudio --index-url https://download.pytorch.org/whl/cu118\n",
        "!pip install transformers diffusers accelerate scipy safetensors invisible_watermark\n",
        "\n",
        "# Clone the Stable Diffusion repository\n",
        "!git clone https://github.com/Stability-AI/stablediffusion.git\n",
        "\n",
        "# Navigate to the Stable Diffusion directory\n",
        "%cd stablediffusion\n",
        "\n",
        "# Install the necessary dependencies\n",
        "!pip install -r requirements.txt\n",
        "\n",
        "# Download a pre-trained model (e.g., Stable Diffusion v1.5)\n",
        "!wget https://huggingface.co/runwayml/stable-diffusion-v1-5/resolve/main/v1-5-pruned-emaonly.ckpt -O model.ckpt\n",
        "\n",
        "# Now you can use Stable Diffusion by running the python scripts from the stablediffusion directory."
      ],
      "metadata": {
        "id": "ktOl-3EEiB7w"
      },
      "execution_count": null,
      "outputs": []
    },
    {
      "cell_type": "code",
      "source": [
        "# prompt: install pop os\n",
        "\n",
        "# You can't directly install Pop!_OS within a Colab environment.\n",
        "# Colab runs on Google's infrastructure, and you don't have root access to install an entire OS.\n",
        "# If you want to use Pop!_OS, you'll need to install it on a physical machine or virtual machine.\n",
        "\n",
        "# Here's a general outline of how to install Pop!_OS on a virtual machine:\n",
        "\n",
        "# 1. Install a hypervisor like VirtualBox or VMware.\n",
        "# 2. Download the Pop!_OS ISO file from the System76 website.\n",
        "# 3. Create a new virtual machine with appropriate settings (CPU, RAM, storage).\n",
        "# 4. Boot the virtual machine using the Pop!_OS ISO file.\n",
        "# 5. Follow the on-screen instructions to install Pop!_OS on your virtual machine.\n",
        "\n",
        "# Please note that this is a general overview, and the specific steps might vary slightly depending on your hypervisor and chosen configuration.\n",
        "# For detailed instructions, please refer to the official Pop!_OS documentation and your hypervisor's documentation."
      ],
      "metadata": {
        "id": "QNyryz1Gkbb1"
      },
      "execution_count": null,
      "outputs": []
    }
  ]
}